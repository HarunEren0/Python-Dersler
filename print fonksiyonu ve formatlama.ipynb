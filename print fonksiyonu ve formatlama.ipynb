{
 "cells": [
  {
   "cell_type": "code",
   "execution_count": 1,
   "id": "93f3ca78",
   "metadata": {},
   "outputs": [
    {
     "data": {
      "text/plain": [
       "'murat'"
      ]
     },
     "execution_count": 1,
     "metadata": {},
     "output_type": "execute_result"
    }
   ],
   "source": [
    "\"murat\""
   ]
  },
  {
   "cell_type": "code",
   "execution_count": 2,
   "id": "cf2e25e3",
   "metadata": {},
   "outputs": [
    {
     "name": "stdout",
     "output_type": "stream",
     "text": [
      "35\n"
     ]
    }
   ],
   "source": [
    "print(35)"
   ]
  },
  {
   "cell_type": "code",
   "execution_count": 3,
   "id": "f8a1d1bc",
   "metadata": {},
   "outputs": [
    {
     "name": "stdout",
     "output_type": "stream",
     "text": [
      "3.14\n"
     ]
    }
   ],
   "source": [
    "print(3.14)"
   ]
  },
  {
   "cell_type": "code",
   "execution_count": 4,
   "id": "b03587cb",
   "metadata": {},
   "outputs": [
    {
     "name": "stdout",
     "output_type": "stream",
     "text": [
      "murat\n"
     ]
    }
   ],
   "source": [
    "print(\"murat\")"
   ]
  },
  {
   "cell_type": "code",
   "execution_count": 6,
   "id": "6a3cdb03",
   "metadata": {},
   "outputs": [
    {
     "name": "stdout",
     "output_type": "stream",
     "text": [
      "19\n"
     ]
    }
   ],
   "source": [
    "a = 4\n",
    "b = 15 \n",
    "print(a + b)"
   ]
  },
  {
   "cell_type": "code",
   "execution_count": 8,
   "id": "2fd2caec",
   "metadata": {},
   "outputs": [
    {
     "name": "stdout",
     "output_type": "stream",
     "text": [
      "murat'ın bugün dersi var\n"
     ]
    }
   ],
   "source": [
    "print(\"murat'ın bugün dersi var\")"
   ]
  },
  {
   "cell_type": "code",
   "execution_count": 9,
   "id": "0d242d23",
   "metadata": {},
   "outputs": [
    {
     "name": "stdout",
     "output_type": "stream",
     "text": [
      "35 4.54 merhaba python\n"
     ]
    }
   ],
   "source": [
    "print(35,4.54,\"merhaba\",\"python\")"
   ]
  },
  {
   "cell_type": "code",
   "execution_count": 11,
   "id": "e9fe756b",
   "metadata": {},
   "outputs": [
    {
     "name": "stdout",
     "output_type": "stream",
     "text": [
      "merhaba\n",
      "nasılsın\n",
      "iyi misin?\n"
     ]
    }
   ],
   "source": [
    "print(\"merhaba\\nnasılsın\\niyi misin?\")"
   ]
  },
  {
   "cell_type": "code",
   "execution_count": 13,
   "id": "039cfc90",
   "metadata": {},
   "outputs": [
    {
     "name": "stdout",
     "output_type": "stream",
     "text": [
      "merhaba           iyi             misin?\n"
     ]
    }
   ],
   "source": [
    "print(\"merhaba           iyi             misin?\")"
   ]
  },
  {
   "cell_type": "code",
   "execution_count": 20,
   "id": "e9be67d8",
   "metadata": {},
   "outputs": [
    {
     "name": "stdout",
     "output_type": "stream",
     "text": [
      "merhaba \t iyi \t misin?\n"
     ]
    }
   ],
   "source": [
    "print(\"merhaba \\t iyi \\t misin?\")"
   ]
  },
  {
   "cell_type": "code",
   "execution_count": 21,
   "id": "4ead4a62",
   "metadata": {},
   "outputs": [
    {
     "data": {
      "text/plain": [
       "int"
      ]
     },
     "execution_count": 21,
     "metadata": {},
     "output_type": "execute_result"
    }
   ],
   "source": [
    "type(34)"
   ]
  },
  {
   "cell_type": "code",
   "execution_count": 22,
   "id": "0f7d28f8",
   "metadata": {},
   "outputs": [
    {
     "data": {
      "text/plain": [
       "float"
      ]
     },
     "execution_count": 22,
     "metadata": {},
     "output_type": "execute_result"
    }
   ],
   "source": [
    "type(3.14)"
   ]
  },
  {
   "cell_type": "code",
   "execution_count": 23,
   "id": "0b1ff193",
   "metadata": {},
   "outputs": [
    {
     "data": {
      "text/plain": [
       "str"
      ]
     },
     "execution_count": 23,
     "metadata": {},
     "output_type": "execute_result"
    }
   ],
   "source": [
    "type(\"murat\")"
   ]
  },
  {
   "cell_type": "code",
   "execution_count": 24,
   "id": "e3bd5083",
   "metadata": {},
   "outputs": [
    {
     "name": "stdout",
     "output_type": "stream",
     "text": [
      "35 43 54 63\n"
     ]
    }
   ],
   "source": [
    "print(35,43,54,63)"
   ]
  },
  {
   "cell_type": "code",
   "execution_count": 25,
   "id": "2f37ed8e",
   "metadata": {},
   "outputs": [
    {
     "name": "stdout",
     "output_type": "stream",
     "text": [
      "35/43/54/63\n"
     ]
    }
   ],
   "source": [
    "print(35,43,54,63,sep = \"/\")"
   ]
  },
  {
   "cell_type": "code",
   "execution_count": 27,
   "id": "27b73128",
   "metadata": {},
   "outputs": [
    {
     "name": "stdout",
     "output_type": "stream",
     "text": [
      "mustafa\n",
      "murat\n",
      "coşkun\n"
     ]
    }
   ],
   "source": [
    "print(\"mustafa\",\"murat\",\"coşkun\",sep = \"\\n\")"
   ]
  },
  {
   "cell_type": "code",
   "execution_count": 28,
   "id": "4d7d519c",
   "metadata": {},
   "outputs": [
    {
     "name": "stdout",
     "output_type": "stream",
     "text": [
      "python\n"
     ]
    }
   ],
   "source": [
    "print(\"python\")"
   ]
  },
  {
   "cell_type": "code",
   "execution_count": 29,
   "id": "d1676efc",
   "metadata": {},
   "outputs": [
    {
     "name": "stdout",
     "output_type": "stream",
     "text": [
      "p y t h o n\n"
     ]
    }
   ],
   "source": [
    "print(*\"python\")"
   ]
  },
  {
   "cell_type": "code",
   "execution_count": 30,
   "id": "046180d2",
   "metadata": {},
   "outputs": [
    {
     "name": "stdout",
     "output_type": "stream",
     "text": [
      "p/y/t/h/o/n\n"
     ]
    }
   ],
   "source": [
    "print(*\"python\",sep = \"/\")"
   ]
  },
  {
   "cell_type": "code",
   "execution_count": 31,
   "id": "3067562e",
   "metadata": {},
   "outputs": [
    {
     "name": "stdout",
     "output_type": "stream",
     "text": [
      "T.B.M.M\n"
     ]
    }
   ],
   "source": [
    "print(\"T\",\"B\",\"M\",\"M\",sep = \".\")"
   ]
  },
  {
   "cell_type": "code",
   "execution_count": 32,
   "id": "9b6b232b",
   "metadata": {},
   "outputs": [
    {
     "name": "stdout",
     "output_type": "stream",
     "text": [
      "T.B.M.M\n"
     ]
    }
   ],
   "source": [
    "print(*\"TBMM\",sep = \".\")"
   ]
  },
  {
   "cell_type": "raw",
   "id": "aa998b64",
   "metadata": {},
   "source": [
    "FORMATLAMA"
   ]
  },
  {
   "cell_type": "code",
   "execution_count": 34,
   "id": "beb9975c",
   "metadata": {},
   "outputs": [
    {
     "name": "stdout",
     "output_type": "stream",
     "text": [
      "10 + 5 = 15\n"
     ]
    }
   ],
   "source": [
    "x = 10\n",
    "y = 5\n",
    "print(\"{} + {} = {}\".format(x,y,x + y))"
   ]
  }
 ],
 "metadata": {
  "kernelspec": {
   "display_name": "Python 3 (ipykernel)",
   "language": "python",
   "name": "python3"
  },
  "language_info": {
   "codemirror_mode": {
    "name": "ipython",
    "version": 3
   },
   "file_extension": ".py",
   "mimetype": "text/x-python",
   "name": "python",
   "nbconvert_exporter": "python",
   "pygments_lexer": "ipython3",
   "version": "3.9.12"
  }
 },
 "nbformat": 4,
 "nbformat_minor": 5
}
