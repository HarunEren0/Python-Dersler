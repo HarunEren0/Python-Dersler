{
 "cells": [
  {
   "cell_type": "code",
   "execution_count": 3,
   "id": "caa92c31",
   "metadata": {},
   "outputs": [],
   "source": [
    "sözlük1 = {\"bir\":1,\"iki\":2,\"üç\":3,\"dört\":4}"
   ]
  },
  {
   "cell_type": "code",
   "execution_count": 5,
   "id": "99a7ddb5",
   "metadata": {},
   "outputs": [
    {
     "data": {
      "text/plain": [
       "dict"
      ]
     },
     "execution_count": 5,
     "metadata": {},
     "output_type": "execute_result"
    }
   ],
   "source": [
    "type(sözlük1)"
   ]
  },
  {
   "cell_type": "code",
   "execution_count": 6,
   "id": "69e139e2",
   "metadata": {},
   "outputs": [],
   "source": [
    "sözlük2 = {}"
   ]
  },
  {
   "cell_type": "code",
   "execution_count": 7,
   "id": "7f62a0d5",
   "metadata": {},
   "outputs": [
    {
     "data": {
      "text/plain": [
       "{}"
      ]
     },
     "execution_count": 7,
     "metadata": {},
     "output_type": "execute_result"
    }
   ],
   "source": [
    "sözlük2"
   ]
  },
  {
   "cell_type": "code",
   "execution_count": 8,
   "id": "350ac83e",
   "metadata": {},
   "outputs": [],
   "source": [
    "sözlük2 = dict()"
   ]
  },
  {
   "cell_type": "code",
   "execution_count": 9,
   "id": "1c83e817",
   "metadata": {},
   "outputs": [
    {
     "data": {
      "text/plain": [
       "{}"
      ]
     },
     "execution_count": 9,
     "metadata": {},
     "output_type": "execute_result"
    }
   ],
   "source": [
    "sözlük2"
   ]
  },
  {
   "cell_type": "code",
   "execution_count": 10,
   "id": "6ae7ca84",
   "metadata": {},
   "outputs": [
    {
     "data": {
      "text/plain": [
       "{'bir': 1, 'iki': 2, 'üç': 3, 'dört': 4}"
      ]
     },
     "execution_count": 10,
     "metadata": {},
     "output_type": "execute_result"
    }
   ],
   "source": [
    "sözlük1"
   ]
  },
  {
   "cell_type": "code",
   "execution_count": 13,
   "id": "8154107f",
   "metadata": {},
   "outputs": [
    {
     "data": {
      "text/plain": [
       "1"
      ]
     },
     "execution_count": 13,
     "metadata": {},
     "output_type": "execute_result"
    }
   ],
   "source": [
    "sözlük1[\"bir\"]"
   ]
  },
  {
   "cell_type": "code",
   "execution_count": 14,
   "id": "bcbacea2",
   "metadata": {},
   "outputs": [
    {
     "data": {
      "text/plain": [
       "4"
      ]
     },
     "execution_count": 14,
     "metadata": {},
     "output_type": "execute_result"
    }
   ],
   "source": [
    "sözlük1[\"dört\"]"
   ]
  },
  {
   "cell_type": "code",
   "execution_count": 15,
   "id": "9de67420",
   "metadata": {},
   "outputs": [
    {
     "ename": "KeyError",
     "evalue": "'beş'",
     "output_type": "error",
     "traceback": [
      "\u001b[1;31m---------------------------------------------------------------------------\u001b[0m",
      "\u001b[1;31mKeyError\u001b[0m                                  Traceback (most recent call last)",
      "Input \u001b[1;32mIn [15]\u001b[0m, in \u001b[0;36m<cell line: 1>\u001b[1;34m()\u001b[0m\n\u001b[1;32m----> 1\u001b[0m \u001b[43msözlük1\u001b[49m\u001b[43m[\u001b[49m\u001b[38;5;124;43m\"\u001b[39;49m\u001b[38;5;124;43mbeş\u001b[39;49m\u001b[38;5;124;43m\"\u001b[39;49m\u001b[43m]\u001b[49m\n",
      "\u001b[1;31mKeyError\u001b[0m: 'beş'"
     ]
    }
   ],
   "source": [
    "sözlük1[\"beş\"]"
   ]
  },
  {
   "cell_type": "code",
   "execution_count": 16,
   "id": "9f3ec318",
   "metadata": {},
   "outputs": [
    {
     "data": {
      "text/plain": [
       "{'bir': 1, 'iki': 2, 'üç': 3, 'dört': 4}"
      ]
     },
     "execution_count": 16,
     "metadata": {},
     "output_type": "execute_result"
    }
   ],
   "source": [
    "sözlük1"
   ]
  },
  {
   "cell_type": "code",
   "execution_count": 19,
   "id": "7f0d6d63",
   "metadata": {},
   "outputs": [
    {
     "data": {
      "text/plain": [
       "{'bir': 1, 'iki': 2, 'üç': 3, 'dört': 4, 'beş': 5}"
      ]
     },
     "execution_count": 19,
     "metadata": {},
     "output_type": "execute_result"
    }
   ],
   "source": [
    "sözlük1[\"beş\"] = 5\n",
    "sözlük1"
   ]
  },
  {
   "cell_type": "code",
   "execution_count": 24,
   "id": "89b97ba6",
   "metadata": {},
   "outputs": [],
   "source": [
    "sözlük2 = {\"meyveler\":{\"kiraz\":\"tatlı\",\"karpuz\":\"sulu\",\"vişne\":\"ekşi\"},\"sebze\":{\"patlıcan\":\"acı\",\"kabak\":\"büyük\"}}"
   ]
  },
  {
   "cell_type": "code",
   "execution_count": 25,
   "id": "eb2d391a",
   "metadata": {},
   "outputs": [
    {
     "data": {
      "text/plain": [
       "{'meyveler': {'kiraz': 'tatlı', 'karpuz': 'sulu', 'vişne': 'ekşi'},\n",
       " 'sebze': {'patlıcan': 'acı', 'kabak': 'büyük'}}"
      ]
     },
     "execution_count": 25,
     "metadata": {},
     "output_type": "execute_result"
    }
   ],
   "source": [
    "sözlük2"
   ]
  },
  {
   "cell_type": "code",
   "execution_count": 30,
   "id": "d2f5bbe6",
   "metadata": {},
   "outputs": [
    {
     "data": {
      "text/plain": [
       "'büyük'"
      ]
     },
     "execution_count": 30,
     "metadata": {},
     "output_type": "execute_result"
    }
   ],
   "source": [
    "sözlük2[\"sebze\"][\"kabak\"]"
   ]
  },
  {
   "cell_type": "markdown",
   "id": "d984c2cb",
   "metadata": {},
   "source": [
    "METODLAR"
   ]
  },
  {
   "cell_type": "code",
   "execution_count": 31,
   "id": "85fc91e2",
   "metadata": {},
   "outputs": [
    {
     "data": {
      "text/plain": [
       "{'meyveler': {'kiraz': 'tatlı', 'karpuz': 'sulu', 'vişne': 'ekşi'},\n",
       " 'sebze': {'patlıcan': 'acı', 'kabak': 'büyük'}}"
      ]
     },
     "execution_count": 31,
     "metadata": {},
     "output_type": "execute_result"
    }
   ],
   "source": [
    "sözlük2"
   ]
  },
  {
   "cell_type": "code",
   "execution_count": 32,
   "id": "72f6e89e",
   "metadata": {},
   "outputs": [
    {
     "data": {
      "text/plain": [
       "{'bir': 1, 'iki': 2, 'üç': 3, 'dört': 4, 'beş': 5}"
      ]
     },
     "execution_count": 32,
     "metadata": {},
     "output_type": "execute_result"
    }
   ],
   "source": [
    "sözlük1"
   ]
  },
  {
   "cell_type": "code",
   "execution_count": 33,
   "id": "dafb394e",
   "metadata": {},
   "outputs": [
    {
     "data": {
      "text/plain": [
       "dict_keys(['bir', 'iki', 'üç', 'dört', 'beş'])"
      ]
     },
     "execution_count": 33,
     "metadata": {},
     "output_type": "execute_result"
    }
   ],
   "source": [
    "#sadece anahtarları gösterir\n",
    "sözlük1.keys()"
   ]
  },
  {
   "cell_type": "code",
   "execution_count": 34,
   "id": "f14e5e9c",
   "metadata": {},
   "outputs": [
    {
     "data": {
      "text/plain": [
       "dict_values([1, 2, 3, 4, 5])"
      ]
     },
     "execution_count": 34,
     "metadata": {},
     "output_type": "execute_result"
    }
   ],
   "source": [
    "#sadece değerleri gösterir\n",
    "sözlük1.values()"
   ]
  },
  {
   "cell_type": "code",
   "execution_count": 35,
   "id": "2a33ae74",
   "metadata": {},
   "outputs": [
    {
     "data": {
      "text/plain": [
       "dict_items([('bir', 1), ('iki', 2), ('üç', 3), ('dört', 4), ('beş', 5)])"
      ]
     },
     "execution_count": 35,
     "metadata": {},
     "output_type": "execute_result"
    }
   ],
   "source": [
    "sözlük1.items()"
   ]
  },
  {
   "cell_type": "code",
   "execution_count": 37,
   "id": "ce438161",
   "metadata": {},
   "outputs": [
    {
     "name": "stdout",
     "output_type": "stream",
     "text": [
      "bir 1\n",
      "iki 2\n",
      "üç 3\n",
      "dört 4\n",
      "beş 5\n"
     ]
    }
   ],
   "source": [
    "for k,v in sözlük1.items():\n",
    "    print(k,v)"
   ]
  },
  {
   "cell_type": "code",
   "execution_count": null,
   "id": "eadb710b",
   "metadata": {},
   "outputs": [],
   "source": []
  }
 ],
 "metadata": {
  "kernelspec": {
   "display_name": "Python 3 (ipykernel)",
   "language": "python",
   "name": "python3"
  },
  "language_info": {
   "codemirror_mode": {
    "name": "ipython",
    "version": 3
   },
   "file_extension": ".py",
   "mimetype": "text/x-python",
   "name": "python",
   "nbconvert_exporter": "python",
   "pygments_lexer": "ipython3",
   "version": "3.9.12"
  }
 },
 "nbformat": 4,
 "nbformat_minor": 5
}
