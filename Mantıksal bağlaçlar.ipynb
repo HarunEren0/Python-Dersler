{
 "cells": [
  {
   "cell_type": "markdown",
   "id": "c3541cf1",
   "metadata": {},
   "source": [
    "and Operatörü"
   ]
  },
  {
   "cell_type": "code",
   "execution_count": 7,
   "id": "9689d47b",
   "metadata": {},
   "outputs": [],
   "source": [
    "#herhangi bir sonuç false olursa cevap false olur"
   ]
  },
  {
   "cell_type": "code",
   "execution_count": 1,
   "id": "71ae0beb",
   "metadata": {},
   "outputs": [
    {
     "data": {
      "text/plain": [
       "True"
      ]
     },
     "execution_count": 1,
     "metadata": {},
     "output_type": "execute_result"
    }
   ],
   "source": [
    "1 < 2"
   ]
  },
  {
   "cell_type": "code",
   "execution_count": 2,
   "id": "4279d404",
   "metadata": {},
   "outputs": [
    {
     "data": {
      "text/plain": [
       "True"
      ]
     },
     "execution_count": 2,
     "metadata": {},
     "output_type": "execute_result"
    }
   ],
   "source": [
    "\"murat\" == \"murat\""
   ]
  },
  {
   "cell_type": "code",
   "execution_count": 4,
   "id": "a88c2ddd",
   "metadata": {},
   "outputs": [
    {
     "data": {
      "text/plain": [
       "True"
      ]
     },
     "execution_count": 4,
     "metadata": {},
     "output_type": "execute_result"
    }
   ],
   "source": [
    "1 < 2 and \"murat\" == \"murat\""
   ]
  },
  {
   "cell_type": "code",
   "execution_count": 5,
   "id": "96429b98",
   "metadata": {},
   "outputs": [
    {
     "data": {
      "text/plain": [
       "False"
      ]
     },
     "execution_count": 5,
     "metadata": {},
     "output_type": "execute_result"
    }
   ],
   "source": [
    "1 > 2 and \"murat\" == \"murat\""
   ]
  },
  {
   "cell_type": "code",
   "execution_count": 6,
   "id": "a3e3872c",
   "metadata": {},
   "outputs": [
    {
     "data": {
      "text/plain": [
       "True"
      ]
     },
     "execution_count": 6,
     "metadata": {},
     "output_type": "execute_result"
    }
   ],
   "source": [
    "1 < 2 and \"araba\" < \"zula\" and 4.32 < 5.41"
   ]
  },
  {
   "cell_type": "code",
   "execution_count": 8,
   "id": "5b525fc3",
   "metadata": {},
   "outputs": [
    {
     "data": {
      "text/plain": [
       "False"
      ]
     },
     "execution_count": 8,
     "metadata": {},
     "output_type": "execute_result"
    }
   ],
   "source": [
    "1 > 2 and \"araba\" < \"zula\" and 4.32 < 5.41"
   ]
  },
  {
   "cell_type": "markdown",
   "id": "95dc3295",
   "metadata": {},
   "source": [
    "or Operatörü"
   ]
  },
  {
   "cell_type": "code",
   "execution_count": 14,
   "id": "f431ae82",
   "metadata": {},
   "outputs": [],
   "source": [
    "#en az birisi true olursa cevap true olur"
   ]
  },
  {
   "cell_type": "code",
   "execution_count": 9,
   "id": "5d0f55a3",
   "metadata": {},
   "outputs": [
    {
     "data": {
      "text/plain": [
       "True"
      ]
     },
     "execution_count": 9,
     "metadata": {},
     "output_type": "execute_result"
    }
   ],
   "source": [
    "1 < 2"
   ]
  },
  {
   "cell_type": "code",
   "execution_count": 10,
   "id": "6a4aae05",
   "metadata": {},
   "outputs": [
    {
     "data": {
      "text/plain": [
       "True"
      ]
     },
     "execution_count": 10,
     "metadata": {},
     "output_type": "execute_result"
    }
   ],
   "source": [
    "\"murat\" == \"murat\""
   ]
  },
  {
   "cell_type": "code",
   "execution_count": 11,
   "id": "94d82936",
   "metadata": {},
   "outputs": [
    {
     "data": {
      "text/plain": [
       "True"
      ]
     },
     "execution_count": 11,
     "metadata": {},
     "output_type": "execute_result"
    }
   ],
   "source": [
    "1 < 2 or \"murat\" == \"murat\""
   ]
  },
  {
   "cell_type": "code",
   "execution_count": 12,
   "id": "5e47c560",
   "metadata": {},
   "outputs": [
    {
     "data": {
      "text/plain": [
       "False"
      ]
     },
     "execution_count": 12,
     "metadata": {},
     "output_type": "execute_result"
    }
   ],
   "source": [
    "#murat eşit değil midir mehmete ?\n",
    "1 > 2 or \"murat\" != \"murat\""
   ]
  },
  {
   "cell_type": "code",
   "execution_count": 13,
   "id": "f6972a98",
   "metadata": {},
   "outputs": [
    {
     "data": {
      "text/plain": [
       "True"
      ]
     },
     "execution_count": 13,
     "metadata": {},
     "output_type": "execute_result"
    }
   ],
   "source": [
    "1 > 2 or \"araba\" < \"zula\" or 4.32 > 5.41"
   ]
  },
  {
   "cell_type": "markdown",
   "id": "89f9d73c",
   "metadata": {},
   "source": [
    "not Operatörü"
   ]
  },
  {
   "cell_type": "code",
   "execution_count": 15,
   "id": "e3608e84",
   "metadata": {},
   "outputs": [
    {
     "data": {
      "text/plain": [
       "True"
      ]
     },
     "execution_count": 15,
     "metadata": {},
     "output_type": "execute_result"
    }
   ],
   "source": [
    "2 == 2"
   ]
  },
  {
   "cell_type": "code",
   "execution_count": 16,
   "id": "1bbb55a9",
   "metadata": {},
   "outputs": [
    {
     "data": {
      "text/plain": [
       "False"
      ]
     },
     "execution_count": 16,
     "metadata": {},
     "output_type": "execute_result"
    }
   ],
   "source": [
    "not 2 == 2"
   ]
  },
  {
   "cell_type": "code",
   "execution_count": 17,
   "id": "585a64a3",
   "metadata": {},
   "outputs": [
    {
     "data": {
      "text/plain": [
       "False"
      ]
     },
     "execution_count": 17,
     "metadata": {},
     "output_type": "execute_result"
    }
   ],
   "source": [
    "not \"murat\" != \"mehmet\""
   ]
  },
  {
   "cell_type": "code",
   "execution_count": 18,
   "id": "569fa6e0",
   "metadata": {},
   "outputs": [
    {
     "data": {
      "text/plain": [
       "True"
      ]
     },
     "execution_count": 18,
     "metadata": {},
     "output_type": "execute_result"
    }
   ],
   "source": [
    "\"muurat\" != \"mehmet\""
   ]
  },
  {
   "cell_type": "code",
   "execution_count": 19,
   "id": "600b73a7",
   "metadata": {},
   "outputs": [
    {
     "data": {
      "text/plain": [
       "True"
      ]
     },
     "execution_count": 19,
     "metadata": {},
     "output_type": "execute_result"
    }
   ],
   "source": [
    "#sağdan sola çözülür matematik gibi\n",
    "not (2.14 > 3.49 or (2 != 2 and \"murat\" == \"murat\"))"
   ]
  }
 ],
 "metadata": {
  "kernelspec": {
   "display_name": "Python 3 (ipykernel)",
   "language": "python",
   "name": "python3"
  },
  "language_info": {
   "codemirror_mode": {
    "name": "ipython",
    "version": 3
   },
   "file_extension": ".py",
   "mimetype": "text/x-python",
   "name": "python",
   "nbconvert_exporter": "python",
   "pygments_lexer": "ipython3",
   "version": "3.9.12"
  }
 },
 "nbformat": 4,
 "nbformat_minor": 5
}
