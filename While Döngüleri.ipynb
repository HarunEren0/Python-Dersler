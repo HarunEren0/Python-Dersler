{
 "cells": [
  {
   "cell_type": "code",
   "execution_count": 1,
   "id": "0b99d56b",
   "metadata": {},
   "outputs": [
    {
     "name": "stdout",
     "output_type": "stream",
     "text": [
      "i'nin değeri 0\n",
      "i'nin değeri 1\n",
      "i'nin değeri 2\n",
      "i'nin değeri 3\n",
      "i'nin değeri 4\n",
      "i'nin değeri 5\n",
      "i'nin değeri 6\n",
      "i'nin değeri 7\n",
      "i'nin değeri 8\n",
      "i'nin değeri 9\n"
     ]
    }
   ],
   "source": [
    "i = 0\n",
    "\n",
    "while (i < 10):\n",
    "    print(\"i'nin değeri\",i)\n",
    "    i += 1"
   ]
  },
  {
   "cell_type": "code",
   "execution_count": 4,
   "id": "f7625015",
   "metadata": {},
   "outputs": [
    {
     "name": "stdout",
     "output_type": "stream",
     "text": [
      "i'nin değeri 0\n",
      "i'nin değeri 2\n",
      "i'nin değeri 4\n",
      "i'nin değeri 6\n",
      "i'nin değeri 8\n",
      "i'nin değeri 10\n",
      "i'nin değeri 12\n",
      "i'nin değeri 14\n",
      "i'nin değeri 16\n",
      "i'nin değeri 18\n"
     ]
    }
   ],
   "source": [
    "i = 0\n",
    "\n",
    "while (i < 20):\n",
    "    print(\"i'nin değeri\",i)\n",
    "    i += 2"
   ]
  },
  {
   "cell_type": "code",
   "execution_count": 5,
   "id": "27a07a24",
   "metadata": {},
   "outputs": [
    {
     "name": "stdout",
     "output_type": "stream",
     "text": [
      "python öğreniyorum\n",
      "python öğreniyorum\n",
      "python öğreniyorum\n",
      "python öğreniyorum\n",
      "python öğreniyorum\n",
      "python öğreniyorum\n",
      "python öğreniyorum\n",
      "python öğreniyorum\n",
      "python öğreniyorum\n",
      "python öğreniyorum\n",
      "python öğreniyorum\n",
      "python öğreniyorum\n",
      "python öğreniyorum\n",
      "python öğreniyorum\n",
      "python öğreniyorum\n",
      "python öğreniyorum\n",
      "python öğreniyorum\n",
      "python öğreniyorum\n",
      "python öğreniyorum\n",
      "python öğreniyorum\n",
      "python öğreniyorum\n",
      "python öğreniyorum\n",
      "python öğreniyorum\n",
      "python öğreniyorum\n",
      "python öğreniyorum\n",
      "python öğreniyorum\n",
      "python öğreniyorum\n",
      "python öğreniyorum\n",
      "python öğreniyorum\n",
      "python öğreniyorum\n",
      "python öğreniyorum\n",
      "python öğreniyorum\n",
      "python öğreniyorum\n",
      "python öğreniyorum\n",
      "python öğreniyorum\n",
      "python öğreniyorum\n",
      "python öğreniyorum\n",
      "python öğreniyorum\n",
      "python öğreniyorum\n",
      "python öğreniyorum\n"
     ]
    }
   ],
   "source": [
    "a = 0\n",
    "\n",
    "while a < 40 :\n",
    "    print(\"python öğreniyorum\")\n",
    "    a += 1\n",
    "    "
   ]
  },
  {
   "cell_type": "code",
   "execution_count": 6,
   "id": "392e0a94",
   "metadata": {},
   "outputs": [
    {
     "name": "stdout",
     "output_type": "stream",
     "text": [
      "1\n",
      "2\n",
      "3\n",
      "4\n",
      "5\n"
     ]
    }
   ],
   "source": [
    "liste = [1,2,3,4,5]\n",
    "\n",
    "for i in liste:\n",
    "    print(i)"
   ]
  },
  {
   "cell_type": "code",
   "execution_count": 7,
   "id": "f3695450",
   "metadata": {},
   "outputs": [
    {
     "name": "stdout",
     "output_type": "stream",
     "text": [
      "index: 0 liste elemanı 1\n",
      "index: 1 liste elemanı 2\n",
      "index: 2 liste elemanı 3\n",
      "index: 3 liste elemanı 4\n",
      "index: 4 liste elemanı 5\n"
     ]
    }
   ],
   "source": [
    "index = 0\n",
    "\n",
    "while (index < len(liste)):\n",
    "    print(\"index:\",index,\"liste elemanı\",liste[index])\n",
    "    index += 1"
   ]
  },
  {
   "cell_type": "code",
   "execution_count": null,
   "id": "8a6887a4",
   "metadata": {},
   "outputs": [],
   "source": [
    "#bu kodu çalıştırma\n",
    "b = 0\n",
    "\n",
    "while (b < 10):\n",
    "    print(b)"
   ]
  }
 ],
 "metadata": {
  "kernelspec": {
   "display_name": "Python 3 (ipykernel)",
   "language": "python",
   "name": "python3"
  },
  "language_info": {
   "codemirror_mode": {
    "name": "ipython",
    "version": 3
   },
   "file_extension": ".py",
   "mimetype": "text/x-python",
   "name": "python",
   "nbconvert_exporter": "python",
   "pygments_lexer": "ipython3",
   "version": "3.9.12"
  }
 },
 "nbformat": 4,
 "nbformat_minor": 5
}
