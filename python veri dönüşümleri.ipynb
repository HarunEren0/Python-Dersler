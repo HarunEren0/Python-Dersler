{
 "cells": [
  {
   "cell_type": "markdown",
   "id": "f2bce380",
   "metadata": {},
   "source": [
    "TAM SAYIYI ONDALIKLIYA ÇEVİRME\n"
   ]
  },
  {
   "cell_type": "code",
   "execution_count": 2,
   "id": "7fa49bff",
   "metadata": {},
   "outputs": [
    {
     "data": {
      "text/plain": [
       "43"
      ]
     },
     "execution_count": 2,
     "metadata": {},
     "output_type": "execute_result"
    }
   ],
   "source": [
    "a = 43 \n",
    "float(a)\n",
    "a"
   ]
  },
  {
   "cell_type": "code",
   "execution_count": 3,
   "id": "29041adf",
   "metadata": {},
   "outputs": [
    {
     "data": {
      "text/plain": [
       "-1.0"
      ]
     },
     "execution_count": 3,
     "metadata": {},
     "output_type": "execute_result"
    }
   ],
   "source": [
    "float(-1)"
   ]
  },
  {
   "cell_type": "code",
   "execution_count": 4,
   "id": "49d694b7",
   "metadata": {},
   "outputs": [
    {
     "data": {
      "text/plain": [
       "-13.0"
      ]
     },
     "execution_count": 4,
     "metadata": {},
     "output_type": "execute_result"
    }
   ],
   "source": [
    "float(-13)"
   ]
  },
  {
   "cell_type": "markdown",
   "id": "7d546bc9",
   "metadata": {},
   "source": [
    "ONDALIKLIYI TAM SAYIYA ÇEVİRME"
   ]
  },
  {
   "cell_type": "code",
   "execution_count": 5,
   "id": "4bd12c2e",
   "metadata": {},
   "outputs": [
    {
     "data": {
      "text/plain": [
       "3"
      ]
     },
     "execution_count": 5,
     "metadata": {},
     "output_type": "execute_result"
    }
   ],
   "source": [
    "b = 3.14\n",
    "int(b)"
   ]
  },
  {
   "cell_type": "markdown",
   "id": "1ba15869",
   "metadata": {},
   "source": [
    "SAYILARI STRİNGE ÇEVİRME"
   ]
  },
  {
   "cell_type": "markdown",
   "id": "5a76175b",
   "metadata": {},
   "source": [
    "str(45)"
   ]
  },
  {
   "cell_type": "code",
   "execution_count": 8,
   "id": "8ed2786e",
   "metadata": {},
   "outputs": [
    {
     "data": {
      "text/plain": [
       "3"
      ]
     },
     "execution_count": 8,
     "metadata": {},
     "output_type": "execute_result"
    }
   ],
   "source": [
    "a = str(345)\n",
    "len(a)"
   ]
  },
  {
   "cell_type": "code",
   "execution_count": 9,
   "id": "e5413680",
   "metadata": {},
   "outputs": [
    {
     "data": {
      "text/plain": [
       "'345'"
      ]
     },
     "execution_count": 9,
     "metadata": {},
     "output_type": "execute_result"
    }
   ],
   "source": [
    "a"
   ]
  },
  {
   "cell_type": "code",
   "execution_count": 10,
   "id": "d5db09d1",
   "metadata": {},
   "outputs": [
    {
     "data": {
      "text/plain": [
       "'3.14'"
      ]
     },
     "execution_count": 10,
     "metadata": {},
     "output_type": "execute_result"
    }
   ],
   "source": [
    "a = str(3.14)\n",
    "a"
   ]
  },
  {
   "cell_type": "code",
   "execution_count": 11,
   "id": "d4512fbb",
   "metadata": {},
   "outputs": [
    {
     "data": {
      "text/plain": [
       "4"
      ]
     },
     "execution_count": 11,
     "metadata": {},
     "output_type": "execute_result"
    }
   ],
   "source": [
    "len(a)"
   ]
  },
  {
   "cell_type": "markdown",
   "id": "d380ff7c",
   "metadata": {},
   "source": [
    "STRİNGİ TAM SAYIYA ÇEVİRME"
   ]
  },
  {
   "cell_type": "code",
   "execution_count": 13,
   "id": "6e6d49d2",
   "metadata": {},
   "outputs": [
    {
     "ename": "ValueError",
     "evalue": "invalid literal for int() with base 10: '43432adad'",
     "output_type": "error",
     "traceback": [
      "\u001b[1;31m---------------------------------------------------------------------------\u001b[0m",
      "\u001b[1;31mValueError\u001b[0m                                Traceback (most recent call last)",
      "Input \u001b[1;32mIn [13]\u001b[0m, in \u001b[0;36m<cell line: 2>\u001b[1;34m()\u001b[0m\n\u001b[0;32m      1\u001b[0m a \u001b[38;5;241m=\u001b[39m \u001b[38;5;124m\"\u001b[39m\u001b[38;5;124m43432adad\u001b[39m\u001b[38;5;124m\"\u001b[39m\n\u001b[1;32m----> 2\u001b[0m \u001b[38;5;28;43mint\u001b[39;49m\u001b[43m(\u001b[49m\u001b[43ma\u001b[49m\u001b[43m)\u001b[49m\n",
      "\u001b[1;31mValueError\u001b[0m: invalid literal for int() with base 10: '43432adad'"
     ]
    }
   ],
   "source": [
    "#hatalı kod\n",
    "a = \"43432adad\"\n",
    "int(a)"
   ]
  },
  {
   "cell_type": "code",
   "execution_count": 14,
   "id": "a8086a6e",
   "metadata": {},
   "outputs": [
    {
     "data": {
      "text/plain": [
       "342342"
      ]
     },
     "execution_count": 14,
     "metadata": {},
     "output_type": "execute_result"
    }
   ],
   "source": [
    "a = \"342342\"\n",
    "int(a)"
   ]
  },
  {
   "cell_type": "code",
   "execution_count": 15,
   "id": "e8bf760b",
   "metadata": {},
   "outputs": [
    {
     "data": {
      "text/plain": [
       "3.14444456"
      ]
     },
     "execution_count": 15,
     "metadata": {},
     "output_type": "execute_result"
    }
   ],
   "source": [
    "a = \"3.14444456\"\n",
    "b = float(a)\n",
    "b"
   ]
  },
  {
   "cell_type": "code",
   "execution_count": 16,
   "id": "3b714874",
   "metadata": {},
   "outputs": [
    {
     "ename": "ValueError",
     "evalue": "could not convert string to float: '3.13.32232'",
     "output_type": "error",
     "traceback": [
      "\u001b[1;31m---------------------------------------------------------------------------\u001b[0m",
      "\u001b[1;31mValueError\u001b[0m                                Traceback (most recent call last)",
      "Input \u001b[1;32mIn [16]\u001b[0m, in \u001b[0;36m<cell line: 3>\u001b[1;34m()\u001b[0m\n\u001b[0;32m      1\u001b[0m \u001b[38;5;66;03m#hatalı kod\u001b[39;00m\n\u001b[0;32m      2\u001b[0m a \u001b[38;5;241m=\u001b[39m \u001b[38;5;124m\"\u001b[39m\u001b[38;5;124m3.13.32232\u001b[39m\u001b[38;5;124m\"\u001b[39m\n\u001b[1;32m----> 3\u001b[0m b\u001b[38;5;241m=\u001b[39m \u001b[38;5;28;43mfloat\u001b[39;49m\u001b[43m(\u001b[49m\u001b[43ma\u001b[49m\u001b[43m)\u001b[49m\n\u001b[0;32m      4\u001b[0m b\n",
      "\u001b[1;31mValueError\u001b[0m: could not convert string to float: '3.13.32232'"
     ]
    }
   ],
   "source": [
    "#hatalı kod\n",
    "a = \"3.13.32232\"\n",
    "b = float(a)\n",
    "b"
   ]
  }
 ],
 "metadata": {
  "kernelspec": {
   "display_name": "Python 3 (ipykernel)",
   "language": "python",
   "name": "python3"
  },
  "language_info": {
   "codemirror_mode": {
    "name": "ipython",
    "version": 3
   },
   "file_extension": ".py",
   "mimetype": "text/x-python",
   "name": "python",
   "nbconvert_exporter": "python",
   "pygments_lexer": "ipython3",
   "version": "3.9.12"
  }
 },
 "nbformat": 4,
 "nbformat_minor": 5
}
