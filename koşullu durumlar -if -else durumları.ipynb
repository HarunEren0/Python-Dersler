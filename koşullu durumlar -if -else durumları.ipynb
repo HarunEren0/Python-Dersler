{
 "cells": [
  {
   "cell_type": "code",
   "execution_count": 2,
   "id": "bb98a7e9",
   "metadata": {},
   "outputs": [
    {
     "name": "stdout",
     "output_type": "stream",
     "text": [
      "2\n",
      "Merhaba\n"
     ]
    }
   ],
   "source": [
    "a = 2 #blok 1'e ait kod\n",
    "\n",
    "if (a == 2):\n",
    "    print(a) #blok 2'ye ait kod\n",
    "print(\"Merhaba\") #blok 1'e ait kod"
   ]
  },
  {
   "cell_type": "code",
   "execution_count": 4,
   "id": "2de62e92",
   "metadata": {},
   "outputs": [
    {
     "name": "stdout",
     "output_type": "stream",
     "text": [
      "Merhaba\n"
     ]
    }
   ],
   "source": [
    "a = 2 #blok 1'e ait kod\n",
    "\n",
    "if (a == 3):\n",
    "    print(a) #blok 2'ye ait kod(çalışmaz)\n",
    "print(\"Merhaba\") #blok 1'e ait kod"
   ]
  },
  {
   "cell_type": "markdown",
   "id": "8af18b20",
   "metadata": {},
   "source": [
    "Koşullu durumlar"
   ]
  },
  {
   "cell_type": "markdown",
   "id": "56b1c880",
   "metadata": {},
   "source": [
    "if Bloğu"
   ]
  },
  {
   "cell_type": "code",
   "execution_count": 10,
   "id": "8fd557d2",
   "metadata": {},
   "outputs": [
    {
     "name": "stdout",
     "output_type": "stream",
     "text": [
      "Yaşınızı giriniz: 17\n",
      "Mekana giremezsiniz!\n"
     ]
    }
   ],
   "source": [
    "yaş = int(input(\"Yaşınızı giriniz: \"))\n",
    "\n",
    "if yaş < 18 :\n",
    "    print(\"Mekana giremezsiniz!\")"
   ]
  },
  {
   "cell_type": "code",
   "execution_count": 11,
   "id": "c4da3d82",
   "metadata": {},
   "outputs": [
    {
     "name": "stdout",
     "output_type": "stream",
     "text": [
      "Yaşınızı giriniz: 19\n",
      "Mekana hoşgeldiniz\n"
     ]
    }
   ],
   "source": [
    "yaş = int(input(\"Yaşınızı giriniz: \"))\n",
    "\n",
    "if yaş < 18 :\n",
    "    print(\"Mekana giremezsiniz!\")\n",
    "else:\n",
    "    print(\"Mekana hoşgeldiniz\")"
   ]
  },
  {
   "cell_type": "code",
   "execution_count": 12,
   "id": "5edbed2a",
   "metadata": {},
   "outputs": [
    {
     "name": "stdout",
     "output_type": "stream",
     "text": [
      "Sayı: -3\n",
      "negatif sayı\n"
     ]
    }
   ],
   "source": [
    "sayı = int(input(\"Sayı: \"))\n",
    "\n",
    "if sayı < 0:\n",
    "    print(\"negatif sayı\")\n",
    "else:\n",
    "    print(\"0 veya pozitif sayı\")"
   ]
  },
  {
   "cell_type": "code",
   "execution_count": 13,
   "id": "959fd8b1",
   "metadata": {},
   "outputs": [
    {
     "name": "stdout",
     "output_type": "stream",
     "text": [
      "Sayı: 3\n",
      "0 veya pozitif sayı\n"
     ]
    }
   ],
   "source": [
    "sayı = int(input(\"Sayı: \"))\n",
    "\n",
    "if sayı < 0:\n",
    "    print(\"negatif sayı\")\n",
    "else:\n",
    "    print(\"0 veya pozitif sayı\")"
   ]
  },
  {
   "cell_type": "code",
   "execution_count": 17,
   "id": "b38fea3e",
   "metadata": {},
   "outputs": [
    {
     "name": "stdout",
     "output_type": "stream",
     "text": [
      "Sayı: 0\n",
      "0'a eşit\n"
     ]
    }
   ],
   "source": [
    "sayı = int(input(\"Sayı: \"))\n",
    "\n",
    "if sayı < 0:\n",
    "    print(\"negatif sayı\")\n",
    "elif sayı == 0:\n",
    "    print(\"0'a eşit\")\n",
    "else:\n",
    "    print(\"pozitif sayı\")"
   ]
  },
  {
   "cell_type": "code",
   "execution_count": 18,
   "id": "52bc032c",
   "metadata": {},
   "outputs": [
    {
     "name": "stdout",
     "output_type": "stream",
     "text": [
      "Sayı: -2\n",
      "negatif sayı\n"
     ]
    }
   ],
   "source": [
    "sayı = int(input(\"Sayı: \"))\n",
    "\n",
    "if sayı < 0:\n",
    "    print(\"negatif sayı\")\n",
    "elif sayı == 0:\n",
    "    print(\"0'a eşit\")\n",
    "else:\n",
    "    print(\"pozitif sayı\")"
   ]
  },
  {
   "cell_type": "code",
   "execution_count": 19,
   "id": "424c5ca1",
   "metadata": {},
   "outputs": [
    {
     "name": "stdout",
     "output_type": "stream",
     "text": [
      "Sayı: 3\n",
      "pozitif sayı\n"
     ]
    }
   ],
   "source": [
    "sayı = int(input(\"Sayı: \"))\n",
    "\n",
    "if sayı < 0:\n",
    "    print(\"negatif sayı\")\n",
    "elif sayı == 0:\n",
    "    print(\"0'a eşit\")\n",
    "else:\n",
    "    print(\"pozitif sayı\")"
   ]
  },
  {
   "cell_type": "markdown",
   "id": "577c1044",
   "metadata": {},
   "source": [
    "if elif else blokları\n"
   ]
  },
  {
   "cell_type": "code",
   "execution_count": 25,
   "id": "85b61c78",
   "metadata": {},
   "outputs": [
    {
     "name": "stdout",
     "output_type": "stream",
     "text": [
      "işlem giriniz:2\n",
      "İşlem 2 seçildi.\n"
     ]
    }
   ],
   "source": [
    "işlem = input(\"işlem giriniz:\")\n",
    "\n",
    "if işlem == \"1\":\n",
    "    print(\"İşlem 1 seçildi.\")\n",
    "elif işlem == \"2\":\n",
    "    print(\"İşlem 2 seçildi.\")\n",
    "elif işlem == \"3\":\n",
    "    print(\"İşlem 3 seçildi.\")\n",
    "elif işlem == \"4\":\n",
    "    print(\"İşlem 4 seçildi.\")\n",
    "else:\n",
    "    print(\"Geçersiz işlem!\")"
   ]
  },
  {
   "cell_type": "code",
   "execution_count": 27,
   "id": "1d336b27",
   "metadata": {},
   "outputs": [
    {
     "ename": "SyntaxError",
     "evalue": "invalid syntax (3742262038.py, line 2)",
     "output_type": "error",
     "traceback": [
      "\u001b[1;36m  Input \u001b[1;32mIn [27]\u001b[1;36m\u001b[0m\n\u001b[1;33m    else:\u001b[0m\n\u001b[1;37m    ^\u001b[0m\n\u001b[1;31mSyntaxError\u001b[0m\u001b[1;31m:\u001b[0m invalid syntax\n"
     ]
    }
   ],
   "source": [
    "#Tek başına kullanılmaz\n",
    "else:\n",
    "    print(\"hello\")"
   ]
  },
  {
   "cell_type": "code",
   "execution_count": 28,
   "id": "9458eced",
   "metadata": {},
   "outputs": [
    {
     "ename": "SyntaxError",
     "evalue": "invalid syntax (2846412074.py, line 5)",
     "output_type": "error",
     "traceback": [
      "\u001b[1;36m  Input \u001b[1;32mIn [28]\u001b[1;36m\u001b[0m\n\u001b[1;33m    elif işlem == \"1\":\u001b[0m\n\u001b[1;37m    ^\u001b[0m\n\u001b[1;31mSyntaxError\u001b[0m\u001b[1;31m:\u001b[0m invalid syntax\n"
     ]
    }
   ],
   "source": [
    "#if ile başlaman lazım\n",
    "\n",
    "işlem = input(\"işlem giriniz:\")\n",
    "\n",
    "elif işlem == \"1\":\n",
    "    print(\"İşlem 1 seçildi.\")\n",
    "elif işlem == \"2\":\n",
    "    print(\"İşlem 2 seçildi.\")\n",
    "elif işlem == \"3\":\n",
    "    print(\"İşlem 3 seçildi.\")\n",
    "elif işlem == \"4\":\n",
    "    print(\"İşlem 4 seçildi.\")\n",
    "else:\n",
    "    print(\"Geçersiz işlem!\")"
   ]
  },
  {
   "cell_type": "code",
   "execution_count": 29,
   "id": "8198d09a",
   "metadata": {},
   "outputs": [
    {
     "name": "stdout",
     "output_type": "stream",
     "text": [
      "Notunuzu girin: 75\n",
      "CB\n"
     ]
    }
   ],
   "source": [
    "note = float(input(\"Notunuzu girin: \"))\n",
    "\n",
    "if note >= 90:\n",
    "    print(\"AA\")\n",
    "elif note >= 85:\n",
    "    print(\"BA\")\n",
    "elif note >= 80:\n",
    "    print(\"BB\")\n",
    "elif note >= 75:\n",
    "    print(\"CB\")\n",
    "elif note >= 70:\n",
    "    print(\"CC\")\n",
    "elif note >= 65:\n",
    "    print(\"DC\")\n",
    "elif note >= 60:\n",
    "    print(\"DD\")\n",
    "else:\n",
    "    print(\"Kaldınız.\")"
   ]
  },
  {
   "cell_type": "code",
   "execution_count": 32,
   "id": "cc3a43c1",
   "metadata": {},
   "outputs": [
    {
     "name": "stdout",
     "output_type": "stream",
     "text": [
      "Notunuzu girin: 70\n",
      "CC\n",
      "DC\n",
      "DD\n"
     ]
    }
   ],
   "source": [
    "#if ler yukardaki koşulun doğru olup olmadığına bakmaz\n",
    "note = float(input(\"Notunuzu girin: \"))\n",
    "\n",
    "if note >= 90:\n",
    "    print(\"AA\")\n",
    "if note >= 85:\n",
    "    print(\"BA\")\n",
    "if note >= 80:\n",
    "    print(\"BB\")\n",
    "if note >= 75:\n",
    "    print(\"CB\")\n",
    "if note >= 70:\n",
    "    print(\"CC\")\n",
    "if note >= 65:\n",
    "    print(\"DC\")\n",
    "if note >= 60:\n",
    "    print(\"DD\")\n",
    "else:\n",
    "    print(\"Kaldınız.\")"
   ]
  }
 ],
 "metadata": {
  "kernelspec": {
   "display_name": "Python 3 (ipykernel)",
   "language": "python",
   "name": "python3"
  },
  "language_info": {
   "codemirror_mode": {
    "name": "ipython",
    "version": 3
   },
   "file_extension": ".py",
   "mimetype": "text/x-python",
   "name": "python",
   "nbconvert_exporter": "python",
   "pygments_lexer": "ipython3",
   "version": "3.9.12"
  }
 },
 "nbformat": 4,
 "nbformat_minor": 5
}
